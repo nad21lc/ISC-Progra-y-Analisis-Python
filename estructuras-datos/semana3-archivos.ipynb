{
 "cells": [
  {
   "cell_type": "markdown",
   "metadata": {},
   "source": [
    "<H4>Archivos de texto - lectura y escritura <H4>\n",
    "<h6>Dada la arquitectura y la terminología introducida en el capítulo 1, los archivos se almacenan principalmente en la memoria secundaria.<h6>"
   ]
  },
  {
   "cell_type": "code",
   "execution_count": 17,
   "metadata": {},
   "outputs": [
    {
     "name": "stdout",
     "output_type": "stream",
     "text": [
      "Overwriting texto.txt\n"
     ]
    }
   ],
   "source": [
    "%%file texto.txt\n",
    "Hola\n",
    "Quesito\n",
    "Hormiga"
   ]
  },
  {
   "cell_type": "code",
   "execution_count": 18,
   "metadata": {},
   "outputs": [
    {
     "name": "stdout",
     "output_type": "stream",
     "text": [
      "Hola\n",
      "\n",
      "Quesito\n",
      "\n",
      "Hormiga\n",
      "\n"
     ]
    }
   ],
   "source": [
    "#Imprimiendo el txt\n",
    "\n",
    "file = open(\"texto.txt\")\n",
    "\n",
    "for line in file:\n",
    "    print(line)"
   ]
  },
  {
   "cell_type": "code",
   "execution_count": 19,
   "metadata": {},
   "outputs": [
    {
     "name": "stdout",
     "output_type": "stream",
     "text": [
      "The file has 3 lines\n"
     ]
    }
   ],
   "source": [
    "#Contando lineas\n",
    "\n",
    "file = open(\"texto.txt\")\n",
    "cont = 0\n",
    "\n",
    "for line in file:\n",
    "    cont += 1\n",
    "\n",
    "print(\"The file has\", cont,\"lines\")"
   ]
  },
  {
   "cell_type": "code",
   "execution_count": 20,
   "metadata": {},
   "outputs": [
    {
     "name": "stdout",
     "output_type": "stream",
     "text": [
      "21\n",
      "Hola\n",
      "Q\n"
     ]
    }
   ],
   "source": [
    "#leer como si fuera una sóla cadena\n",
    "\n",
    "file = open(\"texto.txt\")\n",
    "lector = file.read()\n",
    "print(len(lector))\n",
    "print(lector[:6])"
   ]
  },
  {
   "cell_type": "code",
   "execution_count": 23,
   "metadata": {},
   "outputs": [
    {
     "name": "stdout",
     "output_type": "stream",
     "text": [
      "Hola\n",
      "\n",
      "Hormiga\n",
      "\n"
     ]
    }
   ],
   "source": [
    "#si la linea empieza con.. imprime\n",
    "\n",
    "file = open(\"texto.txt\")\n",
    "\n",
    "for line in file:\n",
    "    if line.startswith(\"Ho\"):\n",
    "        print(line)"
   ]
  },
  {
   "cell_type": "code",
   "execution_count": 37,
   "metadata": {},
   "outputs": [
    {
     "name": "stdout",
     "output_type": "stream",
     "text": [
      "File cannon be open a.txt\n",
      "0\n"
     ]
    }
   ],
   "source": [
    "fName = \"a.txt\"\n",
    "\n",
    "try:\n",
    "    file = open(fName)\n",
    "except:\n",
    "    print(\"File cannon be open\", fName)\n",
    "    quit\n",
    "\n",
    "cont = 0\n",
    "for line in file:\n",
    "    cont += 1\n",
    "\n",
    "print(cont)\n"
   ]
  }
 ],
 "metadata": {
  "kernelspec": {
   "display_name": "Python 3",
   "language": "python",
   "name": "python3"
  },
  "language_info": {
   "codemirror_mode": {
    "name": "ipython",
    "version": 3
   },
   "file_extension": ".py",
   "mimetype": "text/x-python",
   "name": "python",
   "nbconvert_exporter": "python",
   "pygments_lexer": "ipython3",
   "version": "3.12.0"
  }
 },
 "nbformat": 4,
 "nbformat_minor": 2
}
