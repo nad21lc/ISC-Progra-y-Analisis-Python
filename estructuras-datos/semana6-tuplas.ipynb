{
 "cells": [
  {
   "cell_type": "markdown",
   "metadata": {},
   "source": [
    "Tuplas son eficientes, no cambian, se pueden comparar y ordenar"
   ]
  },
  {
   "cell_type": "code",
   "execution_count": 1,
   "metadata": {},
   "outputs": [
    {
     "name": "stdout",
     "output_type": "stream",
     "text": [
      "Fred\n"
     ]
    }
   ],
   "source": [
    "(x,y) = (4,\"Fred\")\n",
    "print(y)"
   ]
  },
  {
   "cell_type": "code",
   "execution_count": 3,
   "metadata": {},
   "outputs": [
    {
     "name": "stdout",
     "output_type": "stream",
     "text": [
      "[('D', 2), ('a', 1), ('b', 12), ('c', 22)]\n"
     ]
    }
   ],
   "source": [
    "#Ordenar las keys\n",
    "d = {\"a\":1, \"c\":22, \"b\":12, \"D\":2}\n",
    "t = sorted(d.items())\n",
    "print(t)"
   ]
  },
  {
   "cell_type": "code",
   "execution_count": 6,
   "metadata": {},
   "outputs": [
    {
     "name": "stdout",
     "output_type": "stream",
     "text": [
      "[(1, 'a'), (22, 'c'), (12, 'b')]\n",
      "[(22, 'c'), (12, 'b'), (1, 'a')]\n"
     ]
    }
   ],
   "source": [
    "MyDict = {\"a\":1, \"c\":22, \"b\":12}\n",
    "temp = list()\n",
    "\n",
    "for k, v in MyDict.items():\n",
    "    temp.append((v,k))\n",
    "\n",
    "print(temp)\n",
    "\n",
    "#Con reverse=True invierto el orden\n",
    "temp = sorted(temp, reverse=True)\n",
    "print(temp)"
   ]
  },
  {
   "cell_type": "code",
   "execution_count": 7,
   "metadata": {},
   "outputs": [
    {
     "name": "stdout",
     "output_type": "stream",
     "text": [
      "[(1, 'a'), (12, 'b'), (22, 'c')]\n"
     ]
    }
   ],
   "source": [
    "#Versión corta de ordenar elementos en una lista\n",
    "\n",
    "# Comprensión de listas\n",
    "\n",
    "MyDict = {\"a\":1, \"c\":22, \"b\":12}\n",
    "\n",
    "ord = sorted([(v,k) for k,v in MyDict.items()])\n",
    "\n",
    "print(ord)"
   ]
  },
  {
   "cell_type": "code",
   "execution_count": 8,
   "metadata": {},
   "outputs": [
    {
     "name": "stdout",
     "output_type": "stream",
     "text": [
      "2\n"
     ]
    }
   ],
   "source": [
    "#index devuelve el lugar donde aparece el elemento buscado \n",
    "myList = [10, 20, 30, 40, 50]\n",
    "\n",
    "index = myList.index(30)\n",
    "print(index)"
   ]
  }
 ],
 "metadata": {
  "kernelspec": {
   "display_name": "Python 3",
   "language": "python",
   "name": "python3"
  },
  "language_info": {
   "codemirror_mode": {
    "name": "ipython",
    "version": 3
   },
   "file_extension": ".py",
   "mimetype": "text/x-python",
   "name": "python",
   "nbconvert_exporter": "python",
   "pygments_lexer": "ipython3",
   "version": "3.12.0"
  }
 },
 "nbformat": 4,
 "nbformat_minor": 2
}
