{
 "cells": [
  {
   "cell_type": "markdown",
   "metadata": {},
   "source": [
    "Range function retorna la lista"
   ]
  },
  {
   "cell_type": "code",
   "execution_count": 3,
   "metadata": {},
   "outputs": [
    {
     "name": "stdout",
     "output_type": "stream",
     "text": [
      "[0, 1, 2, 3]\n"
     ]
    }
   ],
   "source": [
    "print(list(range(4)))"
   ]
  },
  {
   "cell_type": "code",
   "execution_count": 2,
   "metadata": {},
   "outputs": [
    {
     "name": "stdout",
     "output_type": "stream",
     "text": [
      "3\n",
      "[0, 1, 2]\n"
     ]
    }
   ],
   "source": [
    "friends = [\"Ana\", \"Cata\", \"Aldo\"]\n",
    "print(len(friends))\n",
    "print(list(range(len(friends))))"
   ]
  },
  {
   "cell_type": "markdown",
   "metadata": {},
   "source": [
    "Concatenar Listas\n",
    "\n",
    ".append() = agregar al final\n",
    "\n",
    "Hay algo en la lista?\n",
    "some = [1,9,2,3]\n",
    "9 in some \n",
    "-->True\n",
    "20 not in some\n",
    "-->True\n",
    "\n",
    "Ordenar\n",
    "friends.sort()\n",
    "\n",
    "En las listas tmb podemos usar min, max,len,sum\n",
    "\n"
   ]
  },
  {
   "cell_type": "code",
   "execution_count": 4,
   "metadata": {},
   "outputs": [
    {
     "name": "stdout",
     "output_type": "stream",
     "text": [
      "['Hola', 'que', 'hace']\n"
     ]
    }
   ],
   "source": [
    "#dividir separado por espacios\n",
    "abc = \"Hola que hace\"\n",
    "dividir = abc.split()\n",
    "print(dividir)"
   ]
  },
  {
   "cell_type": "code",
   "execution_count": 5,
   "metadata": {},
   "outputs": [
    {
     "name": "stdout",
     "output_type": "stream",
     "text": [
      "['first', 'aa', 'amigo']\n"
     ]
    }
   ],
   "source": [
    "#Dividir una cadena dado un caracter\n",
    "line = \"first;aa;amigo\"\n",
    "thing = line.split(\";\")\n",
    "print(thing)"
   ]
  },
  {
   "cell_type": "code",
   "execution_count": 6,
   "metadata": {},
   "outputs": [
    {
     "name": "stdout",
     "output_type": "stream",
     "text": [
      "6\n"
     ]
    }
   ],
   "source": [
    "a = [1, 2, 3]\n",
    "b = [4, 5, 6]\n",
    "c = a + b\n",
    "print(len(c))"
   ]
  }
 ],
 "metadata": {
  "kernelspec": {
   "display_name": "Python 3",
   "language": "python",
   "name": "python3"
  },
  "language_info": {
   "codemirror_mode": {
    "name": "ipython",
    "version": 3
   },
   "file_extension": ".py",
   "mimetype": "text/x-python",
   "name": "python",
   "nbconvert_exporter": "python",
   "pygments_lexer": "ipython3",
   "version": "3.12.0"
  }
 },
 "nbformat": 4,
 "nbformat_minor": 2
}
