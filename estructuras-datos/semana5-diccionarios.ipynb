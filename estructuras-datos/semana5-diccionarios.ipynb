{
 "cells": [
  {
   "cell_type": "markdown",
   "metadata": {},
   "source": [
    "Diccionarios: Colección de datos\n",
    "\n",
    "diccionario = dict()\n",
    "\n",
    "Acá se usan llaves - valor"
   ]
  },
  {
   "cell_type": "code",
   "execution_count": 2,
   "metadata": {},
   "outputs": [
    {
     "name": "stdout",
     "output_type": "stream",
     "text": [
      "{'Algebra': 13, 'Fisica': 20, 'POO': 17}\n",
      "13\n"
     ]
    }
   ],
   "source": [
    "myDict = dict()\n",
    "myDict[\"Algebra\"] = 13\n",
    "myDict[\"Fisica\"] = 20\n",
    "myDict[\"POO\"] = 17\n",
    "\n",
    "print(myDict)\n",
    "print(myDict[\"Algebra\"])"
   ]
  },
  {
   "cell_type": "code",
   "execution_count": 6,
   "metadata": {},
   "outputs": [
    {
     "name": "stdout",
     "output_type": "stream",
     "text": [
      "{'Aritmetica': 12, 'Algebra': 12, 'Fisca': 17}\n"
     ]
    }
   ],
   "source": [
    "#Diccionarios constantes\n",
    "\n",
    "jjj = {\"Aritmetica\":12, \"Algebra\":12, \"Fisca\":17}\n",
    "print(jjj)"
   ]
  },
  {
   "cell_type": "code",
   "execution_count": 9,
   "metadata": {},
   "outputs": [
    {
     "name": "stdout",
     "output_type": "stream",
     "text": [
      "14\n"
     ]
    }
   ],
   "source": [
    "#Sumar a un elemento de una lista\n",
    "\n",
    "jjj = {\"Aritmetica\":12, \"Algebra\":12, \"Fisca\":17}\n",
    "\n",
    "jjj[\"Aritmetica\"] = jjj[\"Aritmetica\"] + 2\n",
    "\n",
    "print(jjj[\"Aritmetica\"])\n"
   ]
  },
  {
   "cell_type": "code",
   "execution_count": 48,
   "metadata": {},
   "outputs": [
    {
     "name": "stdout",
     "output_type": "stream",
     "text": [
      "{'aa': 2, 'bb': 1, 'cc': 1, 'dd': 1, 'ee': 1}\n",
      "2\n"
     ]
    }
   ],
   "source": [
    "#Contar cuantas veces aparece un nombre\n",
    "\n",
    "counts = dict()\n",
    "\n",
    "names = [\"aa\", \"bb\", \"cc\", \"dd\", \"ee\",\"aa\"]\n",
    "\n",
    "for name in names:\n",
    "    counts[name] = counts.get(name,0) + 1\n",
    "print(counts)\n",
    "\n",
    "#get proporcionar un valor por defecto si no se encuentra la clave\n",
    "print(counts.get(\"aa\", 4))"
   ]
  },
  {
   "cell_type": "code",
   "execution_count": 3,
   "metadata": {},
   "outputs": [
    {
     "name": "stdout",
     "output_type": "stream",
     "text": [
      "dict_keys(['aa', 'bb', 'cc', 'dd', 'ee'])\n",
      "dict_values([1, 2, 3, 4, 5])\n",
      "dict_items([('aa', 1), ('bb', 2), ('cc', 3), ('dd', 4), ('ee', 5)])\n"
     ]
    }
   ],
   "source": [
    "#Ver keys, values e items\n",
    "\n",
    "myDict = {\"aa\":1, \"bb\":2, \"cc\":3, \"dd\":4, \"ee\":5}\n",
    "\n",
    "print(myDict.keys())\n",
    "\n",
    "print(myDict.values())\n",
    "\n",
    "#tuplas\n",
    "print(myDict.items())"
   ]
  },
  {
   "cell_type": "code",
   "execution_count": 5,
   "metadata": {},
   "outputs": [
    {
     "name": "stdout",
     "output_type": "stream",
     "text": [
      "aa 1\n",
      "bb 2\n",
      "cc 3\n",
      "dd 4\n",
      "ee 5\n"
     ]
    }
   ],
   "source": [
    "# doble iteración con las tuplas\n",
    "myDict = {\"aa\":1, \"bb\":2, \"cc\":3, \"dd\":4, \"ee\":5}\n",
    "\n",
    "for i, j in myDict.items():\n",
    "    print(i, j)"
   ]
  },
  {
   "cell_type": "code",
   "execution_count": null,
   "metadata": {},
   "outputs": [],
   "source": []
  }
 ],
 "metadata": {
  "kernelspec": {
   "display_name": "Python 3",
   "language": "python",
   "name": "python3"
  },
  "language_info": {
   "codemirror_mode": {
    "name": "ipython",
    "version": 3
   },
   "file_extension": ".py",
   "mimetype": "text/x-python",
   "name": "python",
   "nbconvert_exporter": "python",
   "pygments_lexer": "ipython3",
   "version": "3.12.0"
  }
 },
 "nbformat": 4,
 "nbformat_minor": 2
}
