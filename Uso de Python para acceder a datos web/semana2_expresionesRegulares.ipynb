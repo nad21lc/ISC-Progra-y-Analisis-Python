{
 "cells": [
  {
   "cell_type": "markdown",
   "metadata": {},
   "source": [
    "Re retorna una lista de cadenas"
   ]
  },
  {
   "cell_type": "code",
   "execution_count": 12,
   "metadata": {},
   "outputs": [
    {
     "name": "stdout",
     "output_type": "stream",
     "text": [
      "Overwriting example.txt\n"
     ]
    }
   ],
   "source": [
    "%%file example.txt\n",
    "Hola\n",
    "Quesito\n",
    "From: Italia\n",
    "Quesito\n",
    "From: Peru\n",
    "aguacate From: Mexico"
   ]
  },
  {
   "cell_type": "code",
   "execution_count": 13,
   "metadata": {},
   "outputs": [
    {
     "name": "stdout",
     "output_type": "stream",
     "text": [
      "From: Italia\n",
      "From: Peru\n",
      "aguacate From: Mexico\n"
     ]
    }
   ],
   "source": [
    "hand = open(\"example.txt\")\n",
    "for line in hand:\n",
    "    line = line.rstrip()\n",
    "    if line.find(\"From:\") >= 0:\n",
    "        print(line)"
   ]
  },
  {
   "cell_type": "markdown",
   "metadata": {},
   "source": [
    "Ahora con expresion regulares re.search() equivalente a find() "
   ]
  },
  {
   "cell_type": "code",
   "execution_count": 14,
   "metadata": {},
   "outputs": [
    {
     "name": "stdout",
     "output_type": "stream",
     "text": [
      "From: Italia\n",
      "From: Peru\n",
      "aguacate From: Mexico\n"
     ]
    }
   ],
   "source": [
    "import re\n",
    "\n",
    "hand = open(\"example.txt\")\n",
    "for line in hand:\n",
    "    line = line.rstrip()\n",
    "    if re.search(\"From: \", line):\n",
    "        print(line)"
   ]
  },
  {
   "cell_type": "markdown",
   "metadata": {},
   "source": [
    "Ahora con expresion regulares re.search() equivalente a startswith()\n",
    "\n",
    "En ^X.*: <br>\n",
    "    - ^: Empieza con <br>\n",
    "    - .: Permite a cualquier caracter <br>\n",
    "    - *: 0 o más veces <br>\n",
    "\n",
    "En ^X-\\S+: <br>\n",
    "    - Significa que empieza con X seguido por uno o más caracteres que no sean\n",
    "    espacios en blanco y termine en :"
   ]
  },
  {
   "cell_type": "code",
   "execution_count": 15,
   "metadata": {},
   "outputs": [
    {
     "name": "stdout",
     "output_type": "stream",
     "text": [
      "From: Italia\n",
      "From: Peru\n"
     ]
    }
   ],
   "source": [
    "hand = open(\"example.txt\")\n",
    "\n",
    "for line in hand:\n",
    "    line = line.rstrip()\n",
    "    if line.startswith(\"From: \"):\n",
    "        print(line)"
   ]
  },
  {
   "cell_type": "code",
   "execution_count": 16,
   "metadata": {},
   "outputs": [
    {
     "name": "stdout",
     "output_type": "stream",
     "text": [
      "From: Italia\n",
      "From: Peru\n"
     ]
    }
   ],
   "source": [
    "import re\n",
    "\n",
    "hand = open(\"example.txt\")\n",
    "for line in hand:\n",
    "    line = line.rstrip()\n",
    "    if re.search(\"^From: \", line):\n",
    "        print(line)"
   ]
  }
 ],
 "metadata": {
  "kernelspec": {
   "display_name": "Python 3",
   "language": "python",
   "name": "python3"
  },
  "language_info": {
   "codemirror_mode": {
    "name": "ipython",
    "version": 3
   },
   "file_extension": ".py",
   "mimetype": "text/x-python",
   "name": "python",
   "nbconvert_exporter": "python",
   "pygments_lexer": "ipython3",
   "version": "3.12.0"
  }
 },
 "nbformat": 4,
 "nbformat_minor": 2
}
